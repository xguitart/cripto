{
 "cells": [
  {
   "cell_type": "markdown",
   "metadata": {},
   "source": [
    "# El Xifrat del Cèsar\n",
    "\n",
    "Recordem el funcionament del xifrat del Cèsar. Identificarem les lletres de l'alfabet català amb els nombres del 0 al 25:\n",
    "\n",
    "    a --> 0\n",
    "    b --> 1\n",
    "    c --> 2\n",
    "    d --> 3\n",
    "    e --> 4\n",
    "    f --> 5\n",
    "    g --> 6\n",
    "    h --> 7\n",
    "    i --> 8\n",
    "    j --> 9\n",
    "    k --> 10\n",
    "    l --> 11\n",
    "    m --> 12\n",
    "    n --> 13\n",
    "    o --> 14\n",
    "    p --> 15\n",
    "    q --> 16\n",
    "    r --> 17\n",
    "    s --> 18\n",
    "    t --> 19\n",
    "    u --> 20\n",
    "    v --> 21\n",
    "    w --> 22\n",
    "    x --> 23\n",
    "    y --> 24\n",
    "    z --> 25\n",
    "\n",
    "Només farem servir lletres <b>minúscules sense accents</b> i mantindrem els espais entre paraules i els signes de puntuació, però no els considerarem part del missatge (per a nosaltres el missatge seran només les lletres).\n",
    "\n",
    "La clau secreta $k$ és un nombre enter entre $0$ i $25$; per a cada lletra del missatge mirem a quin nombre correspon, diguem-li $c$, i substituïm la lletra per la que correspon al nombre $$ c+k \\pmod{26}.$$ \n",
    "\n",
    "Recordem que la notació $c+k\\pmod{26}$ vol dir el residu de dividir $c+k$ per $26$.\n",
    "\n",
    "La rutina següent realitza el xifrat del Cèsar. Tot seguit hi ha alguns exemples de com s'utilitza; familiatzeu-vos-hi tot canviant els exemples i xifrant altres missatges amb altres claus."
   ]
  },
  {
   "cell_type": "code",
   "execution_count": 2,
   "metadata": {},
   "outputs": [],
   "source": [
    "alfabet = ['a', 'b', 'c', 'd', 'e', 'f', 'g', 'h', 'i', 'j', 'k', 'l', 'm', 'n', 'o', 'p', 'q', 'r', 's', 't', 'u', 'v', 'w', 'x', 'y', 'z']\n",
    "\n",
    "def xifrat_cesar(s, k): # s és una cadena de caràcters i k és la clau\n",
    "    S = '' # S és un string buit, sense cap caràcter\n",
    "    for c in s: # c recorre els elements de v\n",
    "        if c in [' ', ',', '.', ';','\\'','-']:\n",
    "            S = S + c\n",
    "            continue\n",
    "        try:\n",
    "            i = alfabet.index(c) # busquem quin índex correspon al caràcter c\n",
    "        except ValueError:\n",
    "            print 'El missatge només pot contenir lletres minúscules sense accents.' \n",
    "            break\n",
    "        new_i = (i + k)%26 # sumem la clau mòdul 26\n",
    "        S = S + alfabet[new_i]\n",
    "    return S\n"
   ]
  },
  {
   "cell_type": "markdown",
   "metadata": {},
   "source": [
    "### Exemples de xifrat"
   ]
  },
  {
   "cell_type": "code",
   "execution_count": 3,
   "metadata": {},
   "outputs": [],
   "source": [
    "# Exemple 1\n",
    "criptograma1 = xifrat_cesar('ens proposem iniciar el primer de febrer la guerra submarina sense restriccio', 5)\n",
    "print criptograma1"
   ]
  },
  {
   "cell_type": "code",
   "execution_count": 4,
   "metadata": {},
   "outputs": [],
   "source": [
    "# Exemple 2\n",
    "missatge2 = 'af tenia poca aigua'\n",
    "clau = 16\n",
    "criptograma2 = xifrat_cesar(missatge2, clau)\n",
    "print criptograma2"
   ]
  },
  {
   "cell_type": "markdown",
   "metadata": {},
   "source": [
    "### Exercici 1\n",
    "\n",
    "Xifra el missatge 'la criptografia es util' emprant la clau $k=15$"
   ]
  },
  {
   "cell_type": "code",
   "execution_count": 284,
   "metadata": {},
   "outputs": [],
   "source": [
    "# Solució\n"
   ]
  },
  {
   "cell_type": "markdown",
   "metadata": {},
   "source": [
    "### Exemples de desxifrat\n",
    "\n",
    "Fixeu-vos que per a desxifrar el missatge es pot fer amb la mateixa rutina que per a xifrar, però amb la clau canviada de signe:"
   ]
  },
  {
   "cell_type": "code",
   "execution_count": 254,
   "metadata": {},
   "outputs": [
    {
     "data": {
      "text/plain": [
       "'ens proposem iniciar el primer de febrer la guerra submarina sense restriccio'"
      ]
     },
     "execution_count": 254,
     "metadata": {},
     "output_type": "execute_result"
    }
   ],
   "source": [
    "# Desxifrem el criptograma de l'exemple 1\n",
    "xifrat_cesar(criptograma1, -5)"
   ]
  },
  {
   "cell_type": "code",
   "execution_count": 255,
   "metadata": {},
   "outputs": [
    {
     "data": {
      "text/plain": [
       "'af tenia poca aigua'"
      ]
     },
     "execution_count": 255,
     "metadata": {},
     "output_type": "execute_result"
    }
   ],
   "source": [
    "# Desxifrem el criptograma de l'exemple 2\n",
    "xifrat_cesar(criptograma2, -clau)"
   ]
  },
  {
   "cell_type": "code",
   "execution_count": 5,
   "metadata": {},
   "outputs": [],
   "source": [
    "# Exemple 3\n",
    "# xifrem un missatge\n",
    "missatge3 = 'vinyes verdes vora el mar, ara que el vent no remuga, us feu mes verdes i encar teniu la fulla poruga'\n",
    "clau = 24\n",
    "criptograma3 = xifrat_cesar(missatge3, clau)\n",
    "print criptograma3"
   ]
  },
  {
   "cell_type": "code",
   "execution_count": 6,
   "metadata": {},
   "outputs": [],
   "source": [
    "# el desxifrem\n",
    "xifrat_cesar(criptograma3, -clau)"
   ]
  },
  {
   "cell_type": "markdown",
   "metadata": {},
   "source": [
    "### Exercici 2\n",
    "\n",
    "Hem rebut el missatge següent, i sabem que ha estat xifrat amb la clau $k=24$. Esbrina el significat del missatge"
   ]
  },
  {
   "cell_type": "code",
   "execution_count": 258,
   "metadata": {},
   "outputs": [],
   "source": [
    "criptograma4 = 'cjckclryj, cqrgkyr uyrqml'\n"
   ]
  },
  {
   "cell_type": "code",
   "execution_count": 285,
   "metadata": {},
   "outputs": [],
   "source": [
    "# Solució\n"
   ]
  },
  {
   "cell_type": "markdown",
   "metadata": {},
   "source": [
    "### Exercici 3\n",
    "\n",
    "Xifra el missatge el missatge que vulguis amb la clau $k=26$. Com expliques el resultat?"
   ]
  },
  {
   "cell_type": "code",
   "execution_count": 286,
   "metadata": {},
   "outputs": [],
   "source": [
    "# Solució\n"
   ]
  },
  {
   "cell_type": "markdown",
   "metadata": {},
   "source": [
    "## Trencant el xifrat del Cèsar\n",
    "\n",
    "Imagineu que intercepteu el missatge següent. Sabem que ha estat xifrat amb el mètode del Cèsar, però no sabem amb quina clau."
   ]
  },
  {
   "cell_type": "code",
   "execution_count": 261,
   "metadata": {},
   "outputs": [],
   "source": [
    "criptograma5 = 'ler ezk uv ccler gcver kirdlekrivd cr triver, cvekrdvek, jvejv uzi iv...jz cr ccler wvzr vc gcv krdsv vc wvl cr efjkir gver.'"
   ]
  },
  {
   "cell_type": "markdown",
   "metadata": {},
   "source": [
    "### Exercici 4\n",
    "\n",
    "Desxifra el missatge anterior. Per a trobar la clau, pots ajudar-te de la rutina següent, que et dóna la freqüència relativa amb què apareix cada lletra al text interceptat. Recorda també que en català no totes les lletres apareixen amb la mateixa freqüència en textos llargs. En aquest enllaç pots consultar quines són les freqüències relatives:\n",
    "\n",
    "https://ca.wikipedia.org/wiki/Freq%C3%BC%C3%A8ncia_de_les_lletres"
   ]
  },
  {
   "cell_type": "code",
   "execution_count": 7,
   "metadata": {},
   "outputs": [],
   "source": [
    "def frequencies_relatives(S):\n",
    "    new_S = ''\n",
    "    for c in S:\n",
    "        if c in [' ', ',', '.', ';','\\'','-']:\n",
    "            continue\n",
    "        new_S = new_S + c\n",
    "    F=frequency_distribution(new_S) # retorna un objecte que es un espai de probabilitat discret\n",
    "    D = F.function() # aixo és un diccionari\n",
    "    DL = zip(D.keys(),D.values())# això és una llista que conté parelles (lletra, freqüència de la lletra en S)\n",
    "    DL = sorted(DL,reverse = True,key=lambda a: a[1]) #ordenem la llista, fent servir la posició 1 cada parella per a ordenar\n",
    "    new_DL = [(a[0],(RealField(8)(a[1])*100).str()+' %') for a in DL]\n",
    "    return new_DL\n"
   ]
  },
  {
   "cell_type": "code",
   "execution_count": 8,
   "metadata": {},
   "outputs": [],
   "source": [
    "# Exemple d'ús de la rutina frequencies_relatives:\n",
    "m = 'comptarem amb quina frequencia apareix cada lletra en aquest missatge'\n",
    "frequencies_relatives(m)"
   ]
  },
  {
   "cell_type": "code",
   "execution_count": 288,
   "metadata": {},
   "outputs": [],
   "source": [
    "# Solució de l'Exercici 4\n"
   ]
  },
  {
   "cell_type": "markdown",
   "metadata": {},
   "source": [
    "# El xifrat de Vigenere\n",
    "\n",
    "Recordem que el xifrat de Vigenere és semblant al del Cèsar, però cada lletra del missatge es veu afectat per una clau diferent segons la seva posició. Podem pensar que la clau és una paraula, en què cada lletra de la paraula es correspon a una clau de substitució. Per exemple, si la paraula clau és 'cop', com que la 'c' es correspon al nombre 3, la 'o' al nombre 14 i la p al 15, per a xifrar un missatge la primera lletra la desplaçarem 3 posicions, la segona 14, la tercera 15, i així successivament: la quarta lletra 3 posicions, la cinquena 14, etc...\n",
    "\n",
    "La rutina següent realitza el xifrat de Vigenere. Tot seguit veurem alguns exemples de com emparar-la."
   ]
  },
  {
   "cell_type": "code",
   "execution_count": 9,
   "metadata": {},
   "outputs": [],
   "source": [
    "def xifra_vigenere(s, clau): # s és una cadena de caràcters i k és la clau\n",
    "    clau = [alfabet.index(c) for c in clau]\n",
    "    j = 0\n",
    "    S = '' # S és un string buit, sense cap caràcter\n",
    "    for c in s: # c recorre els elements de v\n",
    "        if c in [' ', ',', '.', ';','\\'', '-']:\n",
    "            S = S + c\n",
    "            continue\n",
    "        try:\n",
    "            i = alfabet.index(c) # busquem quin índex correspon al caràcter c\n",
    "        except ValueError:\n",
    "            print 'El missatge només pot contenir lletres majúscules sense accents' \n",
    "        new_i = (i + clau[j])%26 # sumem la clau mòdul 26\n",
    "        S = S + alfabet[new_i]\n",
    "        j = (j + 1)%len(clau)\n",
    "    return S"
   ]
  },
  {
   "cell_type": "markdown",
   "metadata": {},
   "source": [
    "### Exemples"
   ]
  },
  {
   "cell_type": "code",
   "execution_count": 10,
   "metadata": {},
   "outputs": [],
   "source": [
    "# Exemple 4\n",
    "M = 'les matematiques son divertides'\n",
    "C = xifra_vigenere(M, 'cop')\n",
    "print C"
   ]
  },
  {
   "cell_type": "markdown",
   "metadata": {},
   "source": [
    "### Exercici 5\n",
    "\n",
    "Escull una paraula clau i empra-la per a xifrar el missatge 'i avui torna a ser dissabte'"
   ]
  },
  {
   "cell_type": "code",
   "execution_count": 269,
   "metadata": {},
   "outputs": [],
   "source": [
    "m = 'i avui torna a ser dissabte'"
   ]
  },
  {
   "cell_type": "code",
   "execution_count": 290,
   "metadata": {},
   "outputs": [],
   "source": [
    "# Solució:\n"
   ]
  },
  {
   "cell_type": "markdown",
   "metadata": {},
   "source": [
    "Per a desxifrar, igual que en el cas del xifrat del Cèsar, podem emprar la mateixa rutina canviant la clau de signe. Per a simplificar, hem fet una rutina que ho fa directament. En aquest cas, cal passar-li la mateixa paraula clau que hem fet servir per a xifrar."
   ]
  },
  {
   "cell_type": "code",
   "execution_count": 271,
   "metadata": {},
   "outputs": [],
   "source": [
    "def desxifra_vigenere(s, clau): # s és una cadena de caràcters i k és la clau\n",
    "    clau = [alfabet[-alfabet.index(c)] for c in clau]\n",
    "    return xifra_vigenere(s, clau)"
   ]
  },
  {
   "cell_type": "code",
   "execution_count": 11,
   "metadata": {},
   "outputs": [],
   "source": [
    "# Exemple\n",
    "# desxifrem el missatge C d'abans\n",
    "desxifra_vigenere(C,'cop')"
   ]
  },
  {
   "cell_type": "markdown",
   "metadata": {},
   "source": [
    "### Exercici 6\n",
    "\n",
    "Desxifra el missatge següent, sabent que ha esta xifrat amb la paraula clau 'cosa'."
   ]
  },
  {
   "cell_type": "code",
   "execution_count": 273,
   "metadata": {},
   "outputs": [],
   "source": [
    "missatge = 'pc ws kuman eme czlrgg neioveu, odgw onuk bg sgfs a vomlc, dwrq hgtjce hk dwnuo ve voft gb laph'"
   ]
  },
  {
   "cell_type": "code",
   "execution_count": 291,
   "metadata": {},
   "outputs": [],
   "source": [
    "# Solució\n",
    "\n"
   ]
  },
  {
   "cell_type": "markdown",
   "metadata": {},
   "source": [
    "## Trencant el xifrat de Vigenere\n",
    "\n",
    "Hem interceptat el missatge següent, del qual sabem que es correspon a un text en <b> anglès </b>.\n"
   ]
  },
  {
   "cell_type": "code",
   "execution_count": 299,
   "metadata": {},
   "outputs": [],
   "source": [
    "C = 'szy zizsb owwayg njs ogfa xfrw oav sdmoy ab qauaahl sbq jwtzhf; lvrq oew savcjwr jahu jsnkca sbq ucakqvwbpw oav gugiyv opl hbooevg bfs nfcgzse ab n kdvjwg gt ojcgzsezcbv; siwflgbr ag rfhvlzrv hb szy lvr jwtzhf sbq xfrwrbeg fwh sgfgz wa lvvk rruznjogaca; wjrjmbfs usg gzs eauul hb dwsw, zvtselm nfr fwqhjwgq cs hsekca; fc bfs fzoyd pr zsyv wa kznnseq ce ksenwgmrr; kznnseq oav huw gysjr lfnvs fzoyd pr hfbzwoahrv wa szy lvraf sgfzk.'"
   ]
  },
  {
   "cell_type": "markdown",
   "metadata": {},
   "source": [
    "La rutina següent serveix per a separar un text (oblidant-nos dels espais i signes de puntuació). Fixa't en els exemples per a esbrinar el seu funcionament."
   ]
  },
  {
   "cell_type": "code",
   "execution_count": 12,
   "metadata": {},
   "outputs": [],
   "source": [
    "def separar(S, pas):\n",
    "    T = ''\n",
    "    for c in S:\n",
    "        if c in [' ', ',', '.', ';','\\'', '-']:\n",
    "            continue\n",
    "        T = T + c\n",
    "    r = []\n",
    "    i = 0; j = 0\n",
    "    count = 0\n",
    "    S1 = ''\n",
    "    while(count < len(T)+1):\n",
    "        try:\n",
    "            S1 = S1 + T[i + j*pas]\n",
    "            j += 1\n",
    "            count += 1\n",
    "        except IndexError:\n",
    "            r.append(S1)\n",
    "            S1 = ''\n",
    "            i += 1\n",
    "            j = 0\n",
    "    return r"
   ]
  },
  {
   "cell_type": "markdown",
   "metadata": {},
   "source": [
    "### Exemples"
   ]
  },
  {
   "cell_type": "code",
   "execution_count": 14,
   "metadata": {},
   "outputs": [],
   "source": [
    "M = 'avui es un dia especial'\n",
    "separar(M, 2)"
   ]
  },
  {
   "cell_type": "code",
   "execution_count": 15,
   "metadata": {},
   "outputs": [],
   "source": [
    "separar(M,3)\n"
   ]
  },
  {
   "cell_type": "code",
   "execution_count": 16,
   "metadata": {},
   "outputs": [],
   "source": [
    "# Podem desar cadascuna de les cadenes de caràcters que retorna la rutina\n",
    "\n",
    "M1, M2 = separar(M,2)\n",
    "print M1\n",
    "print M2\n"
   ]
  },
  {
   "cell_type": "markdown",
   "metadata": {},
   "source": [
    "### Exercici 7\n",
    "\n",
    "Se t'acudeix alguna manera de desxifrar el missatge C, sabent que s'ha xifrat amb una clau de longitud 3?"
   ]
  },
  {
   "cell_type": "code",
   "execution_count": 292,
   "metadata": {},
   "outputs": [],
   "source": [
    "# Solució\n"
   ]
  },
  {
   "cell_type": "markdown",
   "metadata": {},
   "source": [
    "### Exercici 8\n",
    "\n",
    "A l'exercici anterior hem utilitzat que sabíem la longitud de la clau, però aquesta informació no sempre es té. Se t'acudeix alguna manera per a esbrinar la longitud de la clau que s'ha utilitzat per a xifrar un text amb Vigenere?\n",
    "\n",
    "(Pista: si vols ajuda, prova de googlejar 'mètode de Kasiski')"
   ]
  },
  {
   "cell_type": "code",
   "execution_count": 293,
   "metadata": {},
   "outputs": [],
   "source": [
    "# Solució\n"
   ]
  },
  {
   "cell_type": "markdown",
   "metadata": {},
   "source": [
    "# Per a continuar a casa (o a classe):\n",
    "\n",
    "Pots obrir aquest fitxer i seguir executant comandes de Sage amb CoCalC:\n",
    "\n",
    "https://cocalc.com/app\n",
    "\n",
    "Només cal que et creïs un compte d'usuari i no cal que instal·lis res, tot és al núvol."
   ]
  },
  {
   "cell_type": "code",
   "execution_count": null,
   "metadata": {},
   "outputs": [],
   "source": []
  }
 ],
 "metadata": {
  "kernelspec": {
   "display_name": "SageMath 8.4",
   "language": "",
   "name": "sagemath"
  },
  "language_info": {
   "codemirror_mode": {
    "name": "ipython",
    "version": 2
   },
   "file_extension": ".py",
   "mimetype": "text/x-python",
   "name": "python",
   "nbconvert_exporter": "python",
   "pygments_lexer": "ipython2",
   "version": "2.7.15"
  }
 },
 "nbformat": 4,
 "nbformat_minor": 1
}
